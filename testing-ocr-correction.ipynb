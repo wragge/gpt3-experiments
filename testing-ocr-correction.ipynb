{
 "cells": [
  {
   "cell_type": "markdown",
   "id": "1e581024-70b1-4d13-9fa8-bb0b43d45f5b",
   "metadata": {},
   "source": [
    "# Testing OCR correction of Trove newspaper articles using GPT3"
   ]
  },
  {
   "cell_type": "code",
   "execution_count": 241,
   "id": "8b0f9980-f2af-4484-8686-13c50577abee",
   "metadata": {
    "tags": []
   },
   "outputs": [
    {
     "data": {
      "text/html": [
       "<style>\n",
       "    ins {background-color: #ccffcc; }\n",
       "    del {background-color: #ffcccc; } \n",
       "    </style>"
      ],
      "text/plain": [
       "<IPython.core.display.HTML object>"
      ]
     },
     "execution_count": 241,
     "metadata": {},
     "output_type": "execute_result"
    }
   ],
   "source": [
    "import requests\n",
    "import os\n",
    "import html2text\n",
    "import re\n",
    "from IPython.display import HTML\n",
    "from html_diff import diff\n",
    "\n",
    "HTML(\n",
    "    \"\"\"<style>\n",
    "    ins {background-color: #ccffcc; }\n",
    "    del {background-color: #ffcccc; } \n",
    "    </style>\"\"\"\n",
    ")"
   ]
  },
  {
   "cell_type": "code",
   "execution_count": 242,
   "id": "9f683075-0266-4bed-85e1-dcaa5fb0808a",
   "metadata": {
    "tags": []
   },
   "outputs": [],
   "source": [
    "%%capture\n",
    "# Load variables from the .env file if it exists\n",
    "# Use %%capture to suppress messages\n",
    "%load_ext dotenv\n",
    "%dotenv"
   ]
  },
  {
   "cell_type": "code",
   "execution_count": 243,
   "id": "577ca90a-dc0a-4913-8fc2-440cf7dd0370",
   "metadata": {
    "tags": []
   },
   "outputs": [],
   "source": [
    "# Insert your Trove & GPT3 API keys\n",
    "GPT3_KEY = \"YOUR API KEY\"\n",
    "TROVE_API_KEY = \"YOUR API KEY\"\n",
    "\n",
    "# Use api key value from environment variables if it is available\n",
    "if os.getenv(\"GPT3_KEY\"):\n",
    "    GPT3_KEY = os.getenv(\"GPT3_KEY\")\n",
    "    \n",
    "if os.getenv(\"TROVE_API_KEY\"):\n",
    "    TROVE_API_KEY = os.getenv(\"TROVE_API_KEY\")"
   ]
  },
  {
   "cell_type": "markdown",
   "id": "51651dc1-e6f4-4e59-b657-8afb3718b1ce",
   "metadata": {},
   "source": [
    "## Either get a random newspaper article"
   ]
  },
  {
   "cell_type": "code",
   "execution_count": 250,
   "id": "8cb1a382-5290-46a4-82ea-4b87887e811d",
   "metadata": {
    "tags": []
   },
   "outputs": [
    {
     "name": "stdout",
     "output_type": "stream",
     "text": [
      "Article found! -- The Factory Infant's Prayer.: https://trove.nla.gov.au/ndp/del/article/138918125?searchTerm=%22weren%27t%22\n"
     ]
    }
   ],
   "source": [
    "# Get a random article\n",
    "trove_response = requests.get(f\"https://trove-proxy.herokuapp.com/random/?key={TROVE_API_KEY}&word=100 - 1000 Words\")\n",
    "if trove_response.ok:\n",
    "    article = trove_response.json()\n",
    "    print(f\"Article found! -- {article['heading']}: {article['troveUrl']}\")\n",
    "else:\n",
    "    print(\"Try again!\")"
   ]
  },
  {
   "cell_type": "markdown",
   "id": "75dcda40-7487-44c1-b7d5-851e033ebc60",
   "metadata": {},
   "source": [
    "## Or get a specific newspaper article using its identifier"
   ]
  },
  {
   "cell_type": "code",
   "execution_count": 251,
   "id": "a3be6269-6127-40cb-8ec0-1937f018dcbe",
   "metadata": {
    "tags": []
   },
   "outputs": [],
   "source": [
    "# Or else get a specific article by setting the id value below\n",
    "article_id = None\n",
    "\n",
    "if article_id:\n",
    "    trove_params = {\n",
    "        \"include\": \"articletext\",\n",
    "        \"encoding\": \"json\",\n",
    "        \"key\": TROVE_API_KEY\n",
    "    }\n",
    "\n",
    "    trove_url = f\"https://api.trove.nla.gov.au/v2/newspaper/{article_id}\"\n",
    "\n",
    "    trove_response = requests.get(trove_url, params=trove_params)\n",
    "    if trove_response.ok:\n",
    "        article = trove_response.json()[\"article\"]\n",
    "        print(f\"Article found! -- {article['heading']}: {article['troveUrl']}\")\n",
    "    else:\n",
    "        print(\"There was a problem!\")"
   ]
  },
  {
   "cell_type": "markdown",
   "id": "e953d390-7c56-4abb-815c-2a32945ff0ed",
   "metadata": {},
   "source": [
    "## Clean up the input text\n",
    "\n",
    "Remove HTML and line breaks."
   ]
  },
  {
   "cell_type": "code",
   "execution_count": 252,
   "id": "6e281124-2957-4c1c-924c-9cb9858e91c1",
   "metadata": {
    "tags": []
   },
   "outputs": [],
   "source": [
    "text = html2text.html2text(article[\"articleText\"])\n",
    "text = re.sub(\"\\s+\", \" \", text)"
   ]
  },
  {
   "cell_type": "markdown",
   "id": "c6784476-fc34-4e37-9110-e1396c9fd4b8",
   "metadata": {},
   "source": [
    "## Query GPT3\n",
    "\n",
    "At first I tried the `edits` endpoint which uses a different model. That didn't seem to work, so I switched to using `text-davinci-003` and the `completions` endpoint."
   ]
  },
  {
   "cell_type": "code",
   "execution_count": 253,
   "id": "43972bb3-f1b5-471c-990e-938481daa92c",
   "metadata": {
    "tags": []
   },
   "outputs": [],
   "source": [
    "params = {\n",
    "  \"model\": \"text-davinci-003\",\n",
    "  \"prompt\": f\"Correct the OCR errors in this text: {text}\",\n",
    "  \"max_tokens\": 1500\n",
    "}\n",
    "\n",
    "headers = {\"Authorization\": f\"Bearer {GPT3_KEY}\"}\n",
    "\n",
    "gpt_response = requests.post(\"https://api.openai.com/v1/completions\", json=params, headers=headers)"
   ]
  },
  {
   "cell_type": "markdown",
   "id": "86b58f5a-3897-4d24-b4c2-b30829701c11",
   "metadata": {
    "tags": []
   },
   "source": [
    "## Reformat the corrected text\n",
    "\n",
    "Remove the label and line breaks."
   ]
  },
  {
   "cell_type": "code",
   "execution_count": 254,
   "id": "8579c3bb-1841-4c1a-aba3-1ade9e888cb6",
   "metadata": {
    "tags": []
   },
   "outputs": [],
   "source": [
    "corrected = gpt_response.json()[\"choices\"][0][\"text\"]\n",
    "corrected = re.sub(r\"^\\s*.+?:\\s*\", \"\", corrected)\n",
    "# GPT3 inserts line breaks, remove them so we can compare texts\n",
    "corrected = re.sub(\"\\s+\", \" \", corrected)"
   ]
  },
  {
   "cell_type": "markdown",
   "id": "c1e7a4b9-bb32-47c4-a808-8d0cd468c633",
   "metadata": {},
   "source": [
    "## Display the differences"
   ]
  },
  {
   "cell_type": "code",
   "execution_count": 255,
   "id": "bb34732e-bf07-4f6e-adf3-9a8c3ac2ced4",
   "metadata": {
    "tags": []
   },
   "outputs": [
    {
     "data": {
      "text/html": [
       "<ins> </ins>The Factory Infant's Prayer. Gentle Jesus, meek and mild<del>.</del><ins>,</ins> Gaze down on the factory child, Attending loom most all the day I '<del>spec's</del><ins>spect</ins> it's<ins> naught but</ins> waste o'time to play, I leave my bed for weaver's stool, Then leave my work to go to school, But <del>nuffink</del><ins>nothing</ins> won't keep in my head <del>?</del><ins>'</ins>Cos I'm thinking of the weaving shed. Gentle Jesus, tell me why They work <del>«uch</del><ins>such</ins> little girls as I; Would the folks all naked be If <del>it wer</del>'<del>n</del><ins>tweren</ins>'t for little kids like me. Our master says it is a crime To stay at school <del>mor</del><ins>more</ins>'n half the time, We <del>can't</del><ins>cannot</ins> believe all <del>what </del>he say, <del>?Cob</del><ins>'Cos</ins> his <del>kidn</del><ins>kin</ins> go to school all day. Gentle <del>Jesas</del><ins>Jesus</ins>, tell<del>|</del><ins> </ins>me why Your great disciples rave and cry About the poor Armenian's state, Yet silently condone our fate. <del>01</del><ins>Of</ins> <del>coarse</del><ins>course</ins>,<del>.</del> dear <del>Jeeus.</del><ins>Jesus,</ins> you're aware That their temples bright and fair Are endowed with golden spoil, <del>Wrung</del><ins>Wring</ins> from our ungodly toil. Gentle <del>Jews</del><ins>Jesus</ins>,<del> '</del> Lord how long <del>' </del>Are us wee <del>mights</del><ins>mites</ins> to suffer wrong<del> </del>? When will shame thrust forth her sting, Awaken men to this mean thing<del> </del>? <del>GeBtle</del><ins>Gentle</ins> Jesus, meek and mild, Pity this <del>p or</del><ins>poor</ins> factory child, But show no mercy <del>lo</del><ins>to</ins> the swell Who makes child life a living hell, — W.H. in '<del> </del>Justice<del> </del>'<del> </del>"
      ],
      "text/plain": [
       "<IPython.core.display.HTML object>"
      ]
     },
     "execution_count": 255,
     "metadata": {},
     "output_type": "execute_result"
    }
   ],
   "source": [
    "HTML(diff(text, corrected))"
   ]
  },
  {
   "cell_type": "markdown",
   "id": "ef7a6b64-6d1f-446f-b508-b72ca0648054",
   "metadata": {},
   "source": [
    "Just the corrected output:"
   ]
  },
  {
   "cell_type": "code",
   "execution_count": 256,
   "id": "a097fbec-43f3-4be2-b4e1-5950d9edef03",
   "metadata": {
    "tags": []
   },
   "outputs": [
    {
     "data": {
      "text/plain": [
       "\" The Factory Infant's Prayer. Gentle Jesus, meek and mild, Gaze down on the factory child, Attending loom most all the day I 'spect it's naught but waste o'time to play, I leave my bed for weaver's stool, Then leave my work to go to school, But nothing won't keep in my head 'Cos I'm thinking of the weaving shed. Gentle Jesus, tell me why They work such little girls as I; Would the folks all naked be If 'tweren't for little kids like me. Our master says it is a crime To stay at school more'n half the time, We cannot believe all he say, 'Cos his kin go to school all day. Gentle Jesus, tell me why Your great disciples rave and cry About the poor Armenian's state, Yet silently condone our fate. Of course, dear Jesus, you're aware That their temples bright and fair Are endowed with golden spoil, Wring from our ungodly toil. Gentle Jesus, Lord how long Are us wee mites to suffer wrong? When will shame thrust forth her sting, Awaken men to this mean thing? Gentle Jesus, meek and mild, Pity this poor factory child, But show no mercy to the swell Who makes child life a living hell, — W.H. in 'Justice'\""
      ]
     },
     "execution_count": 256,
     "metadata": {},
     "output_type": "execute_result"
    }
   ],
   "source": [
    "corrected"
   ]
  },
  {
   "cell_type": "markdown",
   "id": "438de114-607a-4fba-aa88-f95e9cbfb953",
   "metadata": {},
   "source": [
    "## Cost estimate\n",
    "\n",
    "Based on $0.0200 / 1,000 tokens."
   ]
  },
  {
   "cell_type": "code",
   "execution_count": 263,
   "id": "63026c13-60c0-41e6-b4a0-63732b180b4f",
   "metadata": {
    "tags": []
   },
   "outputs": [
    {
     "name": "stdout",
     "output_type": "stream",
     "text": [
      "Estimated cost: $0.01\n"
     ]
    }
   ],
   "source": [
    "total_tokens = response.json()[\"usage\"][\"total_tokens\"]\n",
    "print(f\"Estimated cost: USD${(total_tokens/1000) * .02:.2f}\")"
   ]
  }
 ],
 "metadata": {
  "kernelspec": {
   "display_name": "Python 3 (ipykernel)",
   "language": "python",
   "name": "python3"
  },
  "language_info": {
   "codemirror_mode": {
    "name": "ipython",
    "version": 3
   },
   "file_extension": ".py",
   "mimetype": "text/x-python",
   "name": "python",
   "nbconvert_exporter": "python",
   "pygments_lexer": "ipython3",
   "version": "3.10.2"
  }
 },
 "nbformat": 4,
 "nbformat_minor": 5
}
